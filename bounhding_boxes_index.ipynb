{
 "cells": [
  {
   "cell_type": "code",
   "execution_count": 191,
   "metadata": {},
   "outputs": [],
   "source": [
    "import pytesseract\n",
    "from PIL import Image\n",
    "import cv2 as cv"
   ]
  },
  {
   "cell_type": "code",
   "execution_count": 192,
   "metadata": {},
   "outputs": [],
   "source": [
    "pytesseract.pytesseract.tesseract_cmd = \"C:\\\\Program Files\\\\Tesseract-OCR\\\\tesseract.exe\""
   ]
  },
  {
   "cell_type": "code",
   "execution_count": 193,
   "metadata": {},
   "outputs": [],
   "source": [
    "image = cv.imread(\"C:\\\\Users\\\\ANSHUMAN\\\\OneDrive\\\\Desktop\\\\SmartIndiaHackathon\\\\Images_used\\\\index_02.JPG\")\n",
    "base_image = image.copy()"
   ]
  },
  {
   "cell_type": "code",
   "execution_count": 194,
   "metadata": {},
   "outputs": [],
   "source": [
    "gray = cv.cvtColor(image, cv.COLOR_BGR2GRAY)"
   ]
  },
  {
   "cell_type": "code",
   "execution_count": 195,
   "metadata": {},
   "outputs": [
    {
     "data": {
      "text/plain": [
       "True"
      ]
     },
     "execution_count": 195,
     "metadata": {},
     "output_type": "execute_result"
    }
   ],
   "source": [
    "cv.imwrite(\"Images_used/gray.png\", gray)"
   ]
  },
  {
   "cell_type": "code",
   "execution_count": 196,
   "metadata": {},
   "outputs": [],
   "source": [
    "blur = cv.GaussianBlur(gray, (7, 7), 0)"
   ]
  },
  {
   "cell_type": "code",
   "execution_count": 197,
   "metadata": {},
   "outputs": [
    {
     "data": {
      "text/plain": [
       "True"
      ]
     },
     "execution_count": 197,
     "metadata": {},
     "output_type": "execute_result"
    }
   ],
   "source": [
    "cv.imwrite('Images_used/index_blur.png', blur)"
   ]
  },
  {
   "cell_type": "code",
   "execution_count": 198,
   "metadata": {},
   "outputs": [],
   "source": [
    "thresh = cv.threshold(blur, 0, 255, cv.THRESH_BINARY_INV + cv.THRESH_OTSU)[1]"
   ]
  },
  {
   "cell_type": "code",
   "execution_count": 199,
   "metadata": {},
   "outputs": [
    {
     "data": {
      "text/plain": [
       "True"
      ]
     },
     "execution_count": 199,
     "metadata": {},
     "output_type": "execute_result"
    }
   ],
   "source": [
    "cv.imwrite('Images_used/index_thresh.png', thresh)"
   ]
  },
  {
   "cell_type": "code",
   "execution_count": 200,
   "metadata": {},
   "outputs": [],
   "source": [
    "kernel = cv.getStructuringElement(cv.MORPH_RECT, (3, 13))"
   ]
  },
  {
   "cell_type": "code",
   "execution_count": 201,
   "metadata": {},
   "outputs": [
    {
     "data": {
      "text/plain": [
       "True"
      ]
     },
     "execution_count": 201,
     "metadata": {},
     "output_type": "execute_result"
    }
   ],
   "source": [
    "cv.imwrite('Images_used/index_kernel.png', kernel)"
   ]
  },
  {
   "cell_type": "code",
   "execution_count": 202,
   "metadata": {},
   "outputs": [],
   "source": [
    "dilate = cv.dilate(thresh, kernel, iterations=1)"
   ]
  },
  {
   "cell_type": "code",
   "execution_count": 203,
   "metadata": {},
   "outputs": [
    {
     "data": {
      "text/plain": [
       "True"
      ]
     },
     "execution_count": 203,
     "metadata": {},
     "output_type": "execute_result"
    }
   ],
   "source": [
    "cv.imwrite('Images_used/index_dilate.png', dilate)"
   ]
  },
  {
   "cell_type": "code",
   "execution_count": 204,
   "metadata": {},
   "outputs": [],
   "source": [
    "cnts = cv.findContours(dilate, cv.RETR_EXTERNAL, cv.CHAIN_APPROX_SIMPLE)"
   ]
  },
  {
   "cell_type": "code",
   "execution_count": 205,
   "metadata": {},
   "outputs": [],
   "source": [
    "cnts = cnts[0] if len(cnts) == 2 else cnts[1]"
   ]
  },
  {
   "cell_type": "code",
   "execution_count": 206,
   "metadata": {},
   "outputs": [],
   "source": [
    "cnts = sorted(cnts, key = lambda x: cv.boundingRect(x)[0])"
   ]
  },
  {
   "cell_type": "code",
   "execution_count": 207,
   "metadata": {},
   "outputs": [
    {
     "data": {
      "text/plain": [
       "True"
      ]
     },
     "execution_count": 207,
     "metadata": {},
     "output_type": "execute_result"
    }
   ],
   "source": [
    "for c in cnts:\n",
    "    x, y, w, h = cv.boundingRect(c)\n",
    "    if h > 200 and w > 20:\n",
    "        roi = image[y:y+h, x:x+h]\n",
    "        cv.imwrite('Images_used/index_roi.png', roi)\n",
    "        cv.rectangle(image, (x, y), (x+w, y+h), (36, 255, 12), 2)\n",
    "\n",
    "cv.imwrite('Images_used/index_bbox_new.png', image)\n"
   ]
  },
  {
   "cell_type": "markdown",
   "metadata": {},
   "source": [
    "## Now we will try toe get the individual names from the strings..."
   ]
  },
  {
   "cell_type": "code",
   "execution_count": 208,
   "metadata": {},
   "outputs": [
    {
     "name": "stdout",
     "output_type": "stream",
     "text": [
      "['A.v.', '', 'Abacuc', '', 'Abagarus', '', 'Abdenago', '', 'Abel', '', 'Abigail', '', 'Abraham', '', '264.', '', '496,', '', 'Absalon', '', 'Acgfredi', '', 'Achab', '', 'Achaz', '', 'Achiel', '', 'Achilon', '', 'Adal-,', 'Aedil-,', '', 'Ethel-.', 'Aedelbaldusabb.S.', 'sis', 'Aedilberctus,', 'gulstadensis,', 'casae', 'Adalbertus,', 'discipulus', 'archiep.', 'Ferrariensis', '416.', 'Adalpertabb.[Tegernseensis', 'Adalbertus', 'tini', '', 'Aedilburga,', 'nia,', 'filia', '148,', '', 'Aethelfleda', 'Northanhumbrorum,', 'regis', '', 'Adalgarius', '', 'Adelgisa', 'ventani', '', 'Adalgisus', 'bardorum', '', 'Epistozae', '', 'Aaron', '', '‘|', '', 'Athel-,', '', 'Aethelhardus,', 'hardus,', 'Aedelhardus,', 'hardus,', 'archiep.', 'sis', '49,9,', '192,', '412.', '451,', '', '.', '', 'Corbeiae', '', 'rae', '1.', '', '509.', '', 'fratres', '', '\\\\|Adalmondus,', '', '||', '', 'Adelperga', '', '||', '', 'bardorum', 'dus,', '', '\\\\|Adalpert', '', 'Aedelredus,', 'Aethilredus,', 'thanhumbrorum,', 'Moll', '49,', '151,', 'Aedilthyda;', 'famulus:', '', 'Adhelricus', 'capellanus', 'burg.,', 'archiepiscopus', '422,', 'edilthyda,', 'waldi', 'rum,', '152,', 'Northanhumbrorum.', 'dildryda', 'thanhumbrorum,', '(+', '', 'Aedelwaldus,', 'Northanhumbrorum', 'Aedilthyda;', '', 'Adalwinus', '', '422,', '', 'Aethiluuinus', '', 'Adam', '879,', '', 'Adam', '579.', '', 'Adaula', '', 'Adoredus,', 'rum', '', 'Adrianus', '', 'Adriaticum', '', 'Aedel-,', '', 'Aegesippus', '', 'Aegil', '', 'Aegyptus,', '‘Aegyptii,', '467,', 'divitiae', 'brae', 'Aegyptiacascola,', 'v.', '', 'Aeine,', '', ',', 'elberhtus', '‘ister', '171,19].', '332,', '', 'Aelfvaldus,', 'thanhymbrorum,', 'gentis]', '', 'Aelim', '', 'Aeneades', '', 'Aesculapius,', '', 'Aesne', 'ethel-,', 'ethiopia', 'fricea', 'papa;', 'fricanus,', 'gar', 'gareni,', 'v,', 'gathensis', '', 'inus', '129,', '', '8', '', 'Aethelhardus,', 'hardus,', 'Aedelhardus,', 'hardus,', 'archiep.', '', 'sis', '', '49,9,', '', '192,', '', '412.', '', '451,', '', 'Adalhardus,', 'Corbeiae', 'rae', '', '1.', '509.', 'fratres', '', 'Adalmondus,', 'burnensis', '', 'Adelperga', 'ventani,', 'bardorum', 'dus,', '', 'Adalpert', '', 'Aedelredus,', 'Aethilredus,', 'thanhumbrorum,', 'Moll', '49,', '151,', 'Aedilthyda;', 'famulus:', '', 'Adhelricus', 'capellanus', 'burg.,', 'archiepiscopus', '422,', '', 'Aedilthyda,', 'waldi', 'rum,', '152,', 'Northanhumbrorum.', '', 'Edildryda', 'thanhumbrorum,', '(¢', '', 'Aedelwaldus,', 'Northanhumbrorum', 'Aedilthyda;', '', 'Adalwinus', '422,', '', 'Aethiluuinus', '', 'Adam', '879,', '', 'Adam', '579.', '', 'Adaula', '', 'Adoredus,', 'rum', '', 'Adrianus', '', 'Adriaticum', '', 'Aedel-,', '', 'Aegesippus', '', 'Aegil', '', 'Aegyptus,', '‘Aegyptii,', '467,', 'divitiae', 'brae', 'Aegyptiacascola,', 'v.', '', 'Aeine,', '', ',', 'elberhtus', '‘ister', '171,19].', '332,', '', 'Aelfvaldus,', 'thanhymbrorum,', 'gentis]', '', 'Aelim', '', 'Aeneades', '', 'Aesculapius,', '', 'Aesne', 'ethel-,', 'ethiopia', 'fricea', 'papa;', 'fricanus,', 'gar', 'gareni,', 'v,', 'gathensis', '', 'inus', '129,', '', '', 'Aethiluuinus', '', 'Adam', '', '879,', '', 'Adam', '', '579.', '', 'Adaula', '', 'Adoredus,', 'rum', '', 'Adrianus', '', 'Adriaticum', '', 'Aedel-,', '', 'Aegesippus', '', 'Aegil', '', 'Aegyptus,', '‘Aegyptii,', '467,', 'divitiae', 'brae', 'Aegyptiacascola,', 'v.', '', 'Aeine,', '', ',', 'Aelberhtus', '‘ister', '171,19].', '332,', '', 'Aelfvaldus,', 'thanhymbrorum,', 'gentis]', '', 'Aelim', '', 'Aeneades', '', 'Aesculapius,', '', 'Aesne', '', 'Aethel-,', '', 'Aethiopia', '', 'Africa', 'papa;', '', 'Africanus,', '', 'Agar', '', 'Agareni,', 'v,', '', 'Agathensis', '', 'Aginus', '', '129,', '', '']\n"
     ]
    }
   ],
   "source": [
    "names = []\n",
    "for c in cnts:\n",
    "    x, y, w, h = cv.boundingRect(c)\n",
    "    if h > 200 and w > 20:\n",
    "        roi = image[y:y+h, x:x+h]\n",
    "        cv.rectangle(image, (x, y), (x+w, y+h), (36, 255, 12), 2)\n",
    "        ocr_result = pytesseract.image_to_string(roi)\n",
    "        ocr_result = ocr_result.split(\"\\n\")\n",
    "        ## This will separate all the elements by a new line.\n",
    "        \n",
    "        for item in ocr_result:\n",
    "            item = item.strip()\n",
    "            ## This will remove all the extra characters from the selected element.\n",
    "            item = item.split(\" \")[0]\n",
    "            ## This is to get only the first part of each element after splitting them by space.\n",
    "            names.append(item)\n",
    "\n",
    "cv.imwrite('Images_used/index_bbox_new.png', image)\n",
    "print(names)"
   ]
  },
  {
   "cell_type": "code",
   "execution_count": 209,
   "metadata": {},
   "outputs": [],
   "source": [
    "final_names = []\n",
    "for item in names:\n",
    "    item = item.strip().replace(\"\\n\", \"\")\n",
    "    item = item.split(\" \")[0]\n",
    "    if len(item) > 0:\n",
    "        if item[0].isupper():\n",
    "            if item[-1].islower():\n",
    "                item = item.split('.')[0]\n",
    "                final_names.append(item)"
   ]
  },
  {
   "cell_type": "code",
   "execution_count": 210,
   "metadata": {},
   "outputs": [
    {
     "data": {
      "text/plain": [
       "['Abacuc', 'Abagarus', 'Abdenago', 'Abel', 'Abigail']"
      ]
     },
     "execution_count": 210,
     "metadata": {},
     "output_type": "execute_result"
    }
   ],
   "source": [
    "final_names[:5]"
   ]
  },
  {
   "cell_type": "code",
   "execution_count": 211,
   "metadata": {},
   "outputs": [
    {
     "name": "stdout",
     "output_type": "stream",
     "text": [
      "408\n",
      "45\n"
     ]
    },
    {
     "data": {
      "text/plain": [
       "['Adam',\n",
       " 'Epistozae',\n",
       " 'Aegil',\n",
       " 'Abagarus',\n",
       " 'Aethiluuinus',\n",
       " 'Edildryda',\n",
       " 'Achaz',\n",
       " 'Acgfredi',\n",
       " 'Adelperga',\n",
       " 'Adaula',\n",
       " 'Northanhumbrorum',\n",
       " 'Achab',\n",
       " 'Achiel',\n",
       " 'Aeneades',\n",
       " 'Corbeiae',\n",
       " 'Aethiopia',\n",
       " 'Adrianus',\n",
       " 'Abacuc',\n",
       " 'Aaron',\n",
       " 'Aginus',\n",
       " 'Adalwinus',\n",
       " 'Agar',\n",
       " 'Aegesippus',\n",
       " 'Adalpert',\n",
       " 'Adalgarius',\n",
       " 'Achilon',\n",
       " 'Absalon',\n",
       " 'Adhelricus',\n",
       " 'Africa',\n",
       " 'Aelberhtus',\n",
       " 'Abigail',\n",
       " 'Adalbertus',\n",
       " 'Abdenago',\n",
       " 'Aethelfleda',\n",
       " 'Adalgisus',\n",
       " 'Aesne',\n",
       " 'Adriaticum',\n",
       " 'Agathensis',\n",
       " 'Ferrariensis',\n",
       " 'Abraham',\n",
       " 'Moll',\n",
       " 'Abel',\n",
       " 'Adelgisa',\n",
       " 'Aelim',\n",
       " 'Adalpertabb']"
      ]
     },
     "execution_count": 211,
     "metadata": {},
     "output_type": "execute_result"
    }
   ],
   "source": [
    "final_names = list(set(final_names))\n",
    "print(len(names))\n",
    "print(len(final_names))\n",
    "final_names"
   ]
  },
  {
   "cell_type": "code",
   "execution_count": null,
   "metadata": {},
   "outputs": [],
   "source": []
  },
  {
   "cell_type": "code",
   "execution_count": null,
   "metadata": {},
   "outputs": [],
   "source": []
  },
  {
   "cell_type": "code",
   "execution_count": null,
   "metadata": {},
   "outputs": [],
   "source": []
  },
  {
   "cell_type": "code",
   "execution_count": null,
   "metadata": {},
   "outputs": [],
   "source": []
  },
  {
   "cell_type": "code",
   "execution_count": null,
   "metadata": {},
   "outputs": [],
   "source": []
  },
  {
   "cell_type": "code",
   "execution_count": null,
   "metadata": {},
   "outputs": [],
   "source": []
  },
  {
   "cell_type": "code",
   "execution_count": null,
   "metadata": {},
   "outputs": [],
   "source": []
  }
 ],
 "metadata": {
  "kernelspec": {
   "display_name": "Python 3",
   "language": "python",
   "name": "python3"
  },
  "language_info": {
   "codemirror_mode": {
    "name": "ipython",
    "version": 3
   },
   "file_extension": ".py",
   "mimetype": "text/x-python",
   "name": "python",
   "nbconvert_exporter": "python",
   "pygments_lexer": "ipython3",
   "version": "3.11.4"
  }
 },
 "nbformat": 4,
 "nbformat_minor": 2
}
