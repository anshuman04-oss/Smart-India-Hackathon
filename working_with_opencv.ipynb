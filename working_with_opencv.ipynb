{
 "cells": [
  {
   "cell_type": "code",
   "execution_count": 1,
   "metadata": {},
   "outputs": [],
   "source": [
    "import pandas as pd\n",
    "import cv2 as cv"
   ]
  },
  {
   "cell_type": "markdown",
   "metadata": {},
   "source": [
    "1. Inverted shapes\n",
    "2. Rescaling\n",
    "3. binarization\n",
    "4. Noise Removal\n",
    "5. Dilation and Erosion\n",
    "6. Rotation / Deskewing\n",
    "7. Removing Boarders\n",
    "8. Missin Boarders\n",
    "9. Transparency/Alpha Channel"
   ]
  },
  {
   "cell_type": "markdown",
   "metadata": {},
   "source": [
    "## Opening an Image"
   ]
  },
  {
   "cell_type": "code",
   "execution_count": 5,
   "metadata": {},
   "outputs": [
    {
     "data": {
      "text/plain": [
       "array([[[201, 161, 136],\n",
       "        [198, 158, 133],\n",
       "        [197, 157, 132],\n",
       "        ...,\n",
       "        [189, 153, 117],\n",
       "        [198, 160, 125],\n",
       "        [196, 159, 121]],\n",
       "\n",
       "       [[200, 160, 135],\n",
       "        [195, 155, 130],\n",
       "        [194, 154, 129],\n",
       "        ...,\n",
       "        [193, 155, 120],\n",
       "        [200, 163, 125],\n",
       "        [198, 161, 123]],\n",
       "\n",
       "       [[199, 159, 134],\n",
       "        [197, 157, 132],\n",
       "        [197, 157, 132],\n",
       "        ...,\n",
       "        [194, 156, 121],\n",
       "        [198, 161, 123],\n",
       "        [199, 162, 124]]], dtype=uint8)"
      ]
     },
     "execution_count": 5,
     "metadata": {},
     "output_type": "execute_result"
    }
   ],
   "source": [
    "image_file = \"C:\\\\Users\\\\ANSHUMAN\\\\OneDrive\\\\Pictures\\\\profile.jpg\"\n",
    "img = cv.imread(image_file)\n",
    "img[:3, :, :]"
   ]
  },
  {
   "cell_type": "code",
   "execution_count": null,
   "metadata": {},
   "outputs": [],
   "source": [
    "cv.imshow(\"original image\", img)"
   ]
  }
 ],
 "metadata": {
  "kernelspec": {
   "display_name": "Python 3",
   "language": "python",
   "name": "python3"
  },
  "language_info": {
   "codemirror_mode": {
    "name": "ipython",
    "version": 3
   },
   "file_extension": ".py",
   "mimetype": "text/x-python",
   "name": "python",
   "nbconvert_exporter": "python",
   "pygments_lexer": "ipython3",
   "version": "3.11.4"
  }
 },
 "nbformat": 4,
 "nbformat_minor": 2
}
